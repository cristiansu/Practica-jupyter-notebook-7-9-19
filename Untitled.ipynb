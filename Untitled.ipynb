{
 "cells": [
  {
   "cell_type": "code",
   "execution_count": 6,
   "metadata": {},
   "outputs": [
    {
     "name": "stdout",
     "output_type": "stream",
     "text": [
      "Práctica Jupyter Notebook CS\n"
     ]
    }
   ],
   "source": [
    "print(\"Práctica Jupyter Notebook CS\")"
   ]
  },
  {
   "cell_type": "code",
   "execution_count": 8,
   "metadata": {},
   "outputs": [
    {
     "name": "stdout",
     "output_type": "stream",
     "text": [
      "ingrese fecha año-mes: 2013-03\n",
      "listo\n"
     ]
    }
   ],
   "source": [
    "import requests\n",
    "\n",
    "fecha1=input(\"ingrese fecha año-mes: \")\n",
    "fecha1=fecha1.split(\"-\")\n",
    "anio1=fecha1[0]\n",
    "mes1=fecha1[1]\n",
    "\n",
    "\n",
    "apikey=\"4e6aea254e20d68a9c1bae80c44383abb5d7caf6\"\n",
    "endpoint=\"https://api.sbif.cl/api-sbifv3/recursos_api/tmc/\"\n",
    "\n",
    "url=endpoint+anio1+\"/\"+mes1\n",
    "parametros={\"apikey\":apikey, \"formato\":\"json\"}\n",
    "\n",
    "respuesta=requests.get(url, params=parametros)\n",
    "respuesta=respuesta.json()\n",
    "archivo=open(\"Tasa_maxima_convencional_anio_mes.txt\", \"w\")\n",
    "\n",
    "for Valor in respuesta[\"TMCs\"]:\n",
    "    archivo.write(str(Valor)+\"\\n\")\n",
    "archivo.close()\n",
    "print(\"listo\")"
   ]
  },
  {
   "cell_type": "code",
   "execution_count": 9,
   "metadata": {},
   "outputs": [
    {
     "name": "stdout",
     "output_type": "stream",
     "text": [
      "18.355555555555554\n"
     ]
    }
   ],
   "source": [
    "from ast import literal_eval\n",
    "import statistics\n",
    "\n",
    "lista_Valor=list()\n",
    "archivo=open(\"Tasa_maxima_convencional_anio_mes.txt\", \"r\")\n",
    "for linea in archivo:\n",
    "    lista=literal_eval(linea)\n",
    "    lista_Valor.append(float(lista[\"Valor\"].replace(\",\",\".\")))\n",
    "archivo.close()\n",
    "promedio=statistics.mean(lista_Valor)\n",
    "print(promedio)"
   ]
  }
 ],
 "metadata": {
  "kernelspec": {
   "display_name": "Python 3",
   "language": "python",
   "name": "python3"
  },
  "language_info": {
   "codemirror_mode": {
    "name": "ipython",
    "version": 3
   },
   "file_extension": ".py",
   "mimetype": "text/x-python",
   "name": "python",
   "nbconvert_exporter": "python",
   "pygments_lexer": "ipython3",
   "version": "3.7.4"
  }
 },
 "nbformat": 4,
 "nbformat_minor": 2
}
